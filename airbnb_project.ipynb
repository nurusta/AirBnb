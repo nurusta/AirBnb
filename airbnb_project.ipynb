{
 "cells": [
  {
   "cell_type": "markdown",
   "id": "e63cb583",
   "metadata": {},
   "source": [
    "UPLOAD THE DATA"
   ]
  },
  {
   "cell_type": "code",
   "execution_count": 162,
   "id": "7b16912e",
   "metadata": {},
   "outputs": [],
   "source": [
    "import numpy as np \n",
    "import pandas as pd\n",
    "import seaborn as sns\n",
    "import matplotlib.pyplot as plt\n",
    "\n",
    "import warnings\n",
    "warnings.filterwarnings(\"ignore\")"
   ]
  },
  {
   "cell_type": "code",
   "execution_count": 40,
   "id": "7a795517",
   "metadata": {},
   "outputs": [],
   "source": [
    "df = pd.read_csv(\"AirbnbIstanbul.csv\")"
   ]
  },
  {
   "cell_type": "code",
   "execution_count": 41,
   "id": "fa301ad9",
   "metadata": {},
   "outputs": [
    {
     "data": {
      "text/html": [
       "<div>\n",
       "<style scoped>\n",
       "    .dataframe tbody tr th:only-of-type {\n",
       "        vertical-align: middle;\n",
       "    }\n",
       "\n",
       "    .dataframe tbody tr th {\n",
       "        vertical-align: top;\n",
       "    }\n",
       "\n",
       "    .dataframe thead th {\n",
       "        text-align: right;\n",
       "    }\n",
       "</style>\n",
       "<table border=\"1\" class=\"dataframe\">\n",
       "  <thead>\n",
       "    <tr style=\"text-align: right;\">\n",
       "      <th></th>\n",
       "      <th>id</th>\n",
       "      <th>name</th>\n",
       "      <th>host_id</th>\n",
       "      <th>host_name</th>\n",
       "      <th>neighbourhood_group</th>\n",
       "      <th>neighbourhood</th>\n",
       "      <th>latitude</th>\n",
       "      <th>longitude</th>\n",
       "      <th>room_type</th>\n",
       "      <th>price</th>\n",
       "      <th>minimum_nights</th>\n",
       "      <th>number_of_reviews</th>\n",
       "      <th>last_review</th>\n",
       "      <th>reviews_per_month</th>\n",
       "      <th>calculated_host_listings_count</th>\n",
       "      <th>availability_365</th>\n",
       "    </tr>\n",
       "  </thead>\n",
       "  <tbody>\n",
       "    <tr>\n",
       "      <th>0</th>\n",
       "      <td>4826</td>\n",
       "      <td>The Place</td>\n",
       "      <td>6603</td>\n",
       "      <td>Kaan</td>\n",
       "      <td>NaN</td>\n",
       "      <td>Uskudar</td>\n",
       "      <td>41.05650</td>\n",
       "      <td>29.05367</td>\n",
       "      <td>Entire home/apt</td>\n",
       "      <td>554</td>\n",
       "      <td>1</td>\n",
       "      <td>1</td>\n",
       "      <td>2009-06-01</td>\n",
       "      <td>0.01</td>\n",
       "      <td>1</td>\n",
       "      <td>365</td>\n",
       "    </tr>\n",
       "    <tr>\n",
       "      <th>1</th>\n",
       "      <td>20815</td>\n",
       "      <td>The Bosphorus from The Comfy Hill</td>\n",
       "      <td>78838</td>\n",
       "      <td>Gülder</td>\n",
       "      <td>NaN</td>\n",
       "      <td>Besiktas</td>\n",
       "      <td>41.06984</td>\n",
       "      <td>29.04545</td>\n",
       "      <td>Entire home/apt</td>\n",
       "      <td>100</td>\n",
       "      <td>30</td>\n",
       "      <td>41</td>\n",
       "      <td>2018-11-07</td>\n",
       "      <td>0.38</td>\n",
       "      <td>2</td>\n",
       "      <td>49</td>\n",
       "    </tr>\n",
       "    <tr>\n",
       "      <th>2</th>\n",
       "      <td>25436</td>\n",
       "      <td>House for vacation rental furnutare</td>\n",
       "      <td>105823</td>\n",
       "      <td>Yesim</td>\n",
       "      <td>NaN</td>\n",
       "      <td>Besiktas</td>\n",
       "      <td>41.07731</td>\n",
       "      <td>29.03891</td>\n",
       "      <td>Entire home/apt</td>\n",
       "      <td>211</td>\n",
       "      <td>21</td>\n",
       "      <td>0</td>\n",
       "      <td>NaN</td>\n",
       "      <td>NaN</td>\n",
       "      <td>1</td>\n",
       "      <td>83</td>\n",
       "    </tr>\n",
       "    <tr>\n",
       "      <th>3</th>\n",
       "      <td>27271</td>\n",
       "      <td>LOVELY APT. IN PERFECT LOCATION</td>\n",
       "      <td>117026</td>\n",
       "      <td>Mutlu</td>\n",
       "      <td>NaN</td>\n",
       "      <td>Beyoglu</td>\n",
       "      <td>41.03220</td>\n",
       "      <td>28.98216</td>\n",
       "      <td>Entire home/apt</td>\n",
       "      <td>237</td>\n",
       "      <td>5</td>\n",
       "      <td>2</td>\n",
       "      <td>2018-05-04</td>\n",
       "      <td>0.04</td>\n",
       "      <td>1</td>\n",
       "      <td>228</td>\n",
       "    </tr>\n",
       "    <tr>\n",
       "      <th>4</th>\n",
       "      <td>28277</td>\n",
       "      <td>Duplex Apartment with Terrace</td>\n",
       "      <td>121607</td>\n",
       "      <td>Alen</td>\n",
       "      <td>NaN</td>\n",
       "      <td>Sisli</td>\n",
       "      <td>41.04471</td>\n",
       "      <td>28.98567</td>\n",
       "      <td>Entire home/apt</td>\n",
       "      <td>591</td>\n",
       "      <td>3</td>\n",
       "      <td>0</td>\n",
       "      <td>NaN</td>\n",
       "      <td>NaN</td>\n",
       "      <td>13</td>\n",
       "      <td>356</td>\n",
       "    </tr>\n",
       "  </tbody>\n",
       "</table>\n",
       "</div>"
      ],
      "text/plain": [
       "      id                                 name  host_id host_name  \\\n",
       "0   4826                            The Place     6603      Kaan   \n",
       "1  20815    The Bosphorus from The Comfy Hill    78838    Gülder   \n",
       "2  25436  House for vacation rental furnutare   105823     Yesim   \n",
       "3  27271      LOVELY APT. IN PERFECT LOCATION   117026     Mutlu   \n",
       "4  28277       Duplex Apartment with Terrace    121607      Alen   \n",
       "\n",
       "   neighbourhood_group neighbourhood  latitude  longitude        room_type  \\\n",
       "0                  NaN       Uskudar  41.05650   29.05367  Entire home/apt   \n",
       "1                  NaN      Besiktas  41.06984   29.04545  Entire home/apt   \n",
       "2                  NaN      Besiktas  41.07731   29.03891  Entire home/apt   \n",
       "3                  NaN       Beyoglu  41.03220   28.98216  Entire home/apt   \n",
       "4                  NaN         Sisli  41.04471   28.98567  Entire home/apt   \n",
       "\n",
       "   price  minimum_nights  number_of_reviews last_review  reviews_per_month  \\\n",
       "0    554               1                  1  2009-06-01               0.01   \n",
       "1    100              30                 41  2018-11-07               0.38   \n",
       "2    211              21                  0         NaN                NaN   \n",
       "3    237               5                  2  2018-05-04               0.04   \n",
       "4    591               3                  0         NaN                NaN   \n",
       "\n",
       "   calculated_host_listings_count  availability_365  \n",
       "0                               1               365  \n",
       "1                               2                49  \n",
       "2                               1                83  \n",
       "3                               1               228  \n",
       "4                              13               356  "
      ]
     },
     "execution_count": 41,
     "metadata": {},
     "output_type": "execute_result"
    }
   ],
   "source": [
    "df.head()"
   ]
  },
  {
   "cell_type": "markdown",
   "id": "f97ed6f4",
   "metadata": {},
   "source": [
    "CLEANING THE DATA"
   ]
  },
  {
   "cell_type": "code",
   "execution_count": 42,
   "id": "c8e9d6f2",
   "metadata": {},
   "outputs": [
    {
     "data": {
      "text/plain": [
       "id                                    0\n",
       "name                                 91\n",
       "host_id                               0\n",
       "host_name                             7\n",
       "neighbourhood_group               16251\n",
       "neighbourhood                         0\n",
       "latitude                              0\n",
       "longitude                             0\n",
       "room_type                             0\n",
       "price                                 0\n",
       "minimum_nights                        0\n",
       "number_of_reviews                     0\n",
       "last_review                        8484\n",
       "reviews_per_month                  8484\n",
       "calculated_host_listings_count        0\n",
       "availability_365                      0\n",
       "dtype: int64"
      ]
     },
     "execution_count": 42,
     "metadata": {},
     "output_type": "execute_result"
    }
   ],
   "source": [
    "df.isnull().sum() #to see  which columns have missing values, the kinds of missing values they have, and how many"
   ]
  },
  {
   "cell_type": "markdown",
   "id": "81b14acf",
   "metadata": {},
   "source": [
    "A total of five columns have missing values:\n",
    "\n",
    "'name' since i will not do text based analysis of the rental names, this column won't add too much to my analysis.\n",
    "Decision: DROP\n",
    "'host_name' Here again, this column contains personal information and doesn't add much to my analysis. \n",
    "Decision: DROP\n",
    "'neighbourhood_group': it has no data\n",
    "Decision: DROP\n",
    "'last_review' Since these are all dates, a missing value most likely means that there has been no review for this rental. I won't be using this for any analysis or visualization.\n",
    "Decision: DROP\n",
    "'reviews_per_month' We might be able to do some analysis with this. This is the kind of situation where own intuition supplements the analysis. In this column, missing values most likely do not mean that the data points were not recorded but that they don't exist, a contrast I've learned to appreciate when dealing with missing values.\n",
    "Decision: REPLACE missing values with 0's"
   ]
  },
  {
   "cell_type": "code",
   "execution_count": 43,
   "id": "9980fc91",
   "metadata": {},
   "outputs": [],
   "source": [
    "df.drop(columns=\"name\", inplace = True)\n",
    "df.drop(columns=\"host_name\", inplace = True)\n",
    "df.drop(columns=\"neighbourhood_group\", inplace = True)\n",
    "df.drop(columns=\"last_review\", inplace = True)\n",
    "df[\"reviews_per_month\"].fillna(0, inplace=True)"
   ]
  },
  {
   "cell_type": "code",
   "execution_count": 44,
   "id": "0626ecff",
   "metadata": {},
   "outputs": [
    {
     "data": {
      "text/html": [
       "<div>\n",
       "<style scoped>\n",
       "    .dataframe tbody tr th:only-of-type {\n",
       "        vertical-align: middle;\n",
       "    }\n",
       "\n",
       "    .dataframe tbody tr th {\n",
       "        vertical-align: top;\n",
       "    }\n",
       "\n",
       "    .dataframe thead th {\n",
       "        text-align: right;\n",
       "    }\n",
       "</style>\n",
       "<table border=\"1\" class=\"dataframe\">\n",
       "  <thead>\n",
       "    <tr style=\"text-align: right;\">\n",
       "      <th></th>\n",
       "      <th>id</th>\n",
       "      <th>host_id</th>\n",
       "      <th>neighbourhood</th>\n",
       "      <th>latitude</th>\n",
       "      <th>longitude</th>\n",
       "      <th>room_type</th>\n",
       "      <th>price</th>\n",
       "      <th>minimum_nights</th>\n",
       "      <th>number_of_reviews</th>\n",
       "      <th>reviews_per_month</th>\n",
       "      <th>calculated_host_listings_count</th>\n",
       "      <th>availability_365</th>\n",
       "    </tr>\n",
       "  </thead>\n",
       "  <tbody>\n",
       "    <tr>\n",
       "      <th>0</th>\n",
       "      <td>4826</td>\n",
       "      <td>6603</td>\n",
       "      <td>Uskudar</td>\n",
       "      <td>41.05650</td>\n",
       "      <td>29.05367</td>\n",
       "      <td>Entire home/apt</td>\n",
       "      <td>554</td>\n",
       "      <td>1</td>\n",
       "      <td>1</td>\n",
       "      <td>0.01</td>\n",
       "      <td>1</td>\n",
       "      <td>365</td>\n",
       "    </tr>\n",
       "    <tr>\n",
       "      <th>1</th>\n",
       "      <td>20815</td>\n",
       "      <td>78838</td>\n",
       "      <td>Besiktas</td>\n",
       "      <td>41.06984</td>\n",
       "      <td>29.04545</td>\n",
       "      <td>Entire home/apt</td>\n",
       "      <td>100</td>\n",
       "      <td>30</td>\n",
       "      <td>41</td>\n",
       "      <td>0.38</td>\n",
       "      <td>2</td>\n",
       "      <td>49</td>\n",
       "    </tr>\n",
       "    <tr>\n",
       "      <th>2</th>\n",
       "      <td>25436</td>\n",
       "      <td>105823</td>\n",
       "      <td>Besiktas</td>\n",
       "      <td>41.07731</td>\n",
       "      <td>29.03891</td>\n",
       "      <td>Entire home/apt</td>\n",
       "      <td>211</td>\n",
       "      <td>21</td>\n",
       "      <td>0</td>\n",
       "      <td>0.00</td>\n",
       "      <td>1</td>\n",
       "      <td>83</td>\n",
       "    </tr>\n",
       "    <tr>\n",
       "      <th>3</th>\n",
       "      <td>27271</td>\n",
       "      <td>117026</td>\n",
       "      <td>Beyoglu</td>\n",
       "      <td>41.03220</td>\n",
       "      <td>28.98216</td>\n",
       "      <td>Entire home/apt</td>\n",
       "      <td>237</td>\n",
       "      <td>5</td>\n",
       "      <td>2</td>\n",
       "      <td>0.04</td>\n",
       "      <td>1</td>\n",
       "      <td>228</td>\n",
       "    </tr>\n",
       "    <tr>\n",
       "      <th>4</th>\n",
       "      <td>28277</td>\n",
       "      <td>121607</td>\n",
       "      <td>Sisli</td>\n",
       "      <td>41.04471</td>\n",
       "      <td>28.98567</td>\n",
       "      <td>Entire home/apt</td>\n",
       "      <td>591</td>\n",
       "      <td>3</td>\n",
       "      <td>0</td>\n",
       "      <td>0.00</td>\n",
       "      <td>13</td>\n",
       "      <td>356</td>\n",
       "    </tr>\n",
       "  </tbody>\n",
       "</table>\n",
       "</div>"
      ],
      "text/plain": [
       "      id  host_id neighbourhood  latitude  longitude        room_type  price  \\\n",
       "0   4826     6603       Uskudar  41.05650   29.05367  Entire home/apt    554   \n",
       "1  20815    78838      Besiktas  41.06984   29.04545  Entire home/apt    100   \n",
       "2  25436   105823      Besiktas  41.07731   29.03891  Entire home/apt    211   \n",
       "3  27271   117026       Beyoglu  41.03220   28.98216  Entire home/apt    237   \n",
       "4  28277   121607         Sisli  41.04471   28.98567  Entire home/apt    591   \n",
       "\n",
       "   minimum_nights  number_of_reviews  reviews_per_month  \\\n",
       "0               1                  1               0.01   \n",
       "1              30                 41               0.38   \n",
       "2              21                  0               0.00   \n",
       "3               5                  2               0.04   \n",
       "4               3                  0               0.00   \n",
       "\n",
       "   calculated_host_listings_count  availability_365  \n",
       "0                               1               365  \n",
       "1                               2                49  \n",
       "2                               1                83  \n",
       "3                               1               228  \n",
       "4                              13               356  "
      ]
     },
     "execution_count": 44,
     "metadata": {},
     "output_type": "execute_result"
    }
   ],
   "source": [
    "df.head()"
   ]
  },
  {
   "cell_type": "markdown",
   "id": "b3866f3d",
   "metadata": {},
   "source": [
    "ANALYZING THE DATA"
   ]
  },
  {
   "cell_type": "code",
   "execution_count": 45,
   "id": "5ac3addd",
   "metadata": {},
   "outputs": [
    {
     "data": {
      "text/plain": [
       "array(['Entire home/apt', 'Private room', 'Shared room'], dtype=object)"
      ]
     },
     "execution_count": 45,
     "metadata": {},
     "output_type": "execute_result"
    }
   ],
   "source": [
    "df['room_type'].unique()"
   ]
  },
  {
   "cell_type": "code",
   "execution_count": 46,
   "id": "226d0c54",
   "metadata": {},
   "outputs": [
    {
     "data": {
      "text/plain": [
       "array(['Uskudar', 'Besiktas', 'Beyoglu', 'Sisli', 'Sariyer', 'Beykoz',\n",
       "       'Atasehir', 'Fatih', 'Adalar', 'Kadikoy', 'Kagithane', 'Maltepe',\n",
       "       'Bakirkoy', 'Esenyurt', 'Basaksehir', 'Kartal', 'Gaziosmanpasa',\n",
       "       'Bahcelievler', 'Bagcilar', 'Buyukcekmece', 'Silivri',\n",
       "       'Beylikduzu', 'Umraniye', 'Sile', 'Cekmekoy', 'Sancaktepe',\n",
       "       'Tuzla', 'Pendik', 'Sultangazi', 'Eyup', 'Zeytinburnu',\n",
       "       'Kucukcekmece', 'Avcilar', 'Gungoren', 'Catalca', 'Bayrampasa',\n",
       "       'Esenler', 'Sultanbeyli', 'Arnavutkoy'], dtype=object)"
      ]
     },
     "execution_count": 46,
     "metadata": {},
     "output_type": "execute_result"
    }
   ],
   "source": [
    "df['neighbourhood'].unique()"
   ]
  },
  {
   "cell_type": "code",
   "execution_count": 47,
   "id": "1f12f334",
   "metadata": {},
   "outputs": [
    {
     "data": {
      "text/plain": [
       "Beyoglu          4245\n",
       "Sisli            2348\n",
       "Fatih            2146\n",
       "Kadikoy          1717\n",
       "Besiktas         1367\n",
       "Uskudar           594\n",
       "Esenyurt          378\n",
       "Kagithane         357\n",
       "Sariyer           299\n",
       "Maltepe           261\n",
       "Atasehir          258\n",
       "Bakirkoy          197\n",
       "Bahcelievler      186\n",
       "Adalar            162\n",
       "Pendik            144\n",
       "Umraniye          136\n",
       "Basaksehir        131\n",
       "Eyup              126\n",
       "Kartal            125\n",
       "Avcilar           118\n",
       "Kucukcekmece      112\n",
       "Buyukcekmece      107\n",
       "Bagcilar           91\n",
       "Beykoz             88\n",
       "Zeytinburnu        75\n",
       "Beylikduzu         70\n",
       "Sile               59\n",
       "Gaziosmanpasa      59\n",
       "Tuzla              57\n",
       "Gungoren           57\n",
       "Cekmekoy           42\n",
       "Sancaktepe         30\n",
       "Silivri            25\n",
       "Sultangazi         18\n",
       "Bayrampasa         18\n",
       "Esenler            18\n",
       "Sultanbeyli        17\n",
       "Arnavutkoy          7\n",
       "Catalca             6\n",
       "Name: neighbourhood, dtype: int64"
      ]
     },
     "execution_count": 47,
     "metadata": {},
     "output_type": "execute_result"
    }
   ],
   "source": [
    "df[\"neighbourhood\"].value_counts()"
   ]
  },
  {
   "cell_type": "code",
   "execution_count": 235,
   "id": "cc79ebd3",
   "metadata": {},
   "outputs": [],
   "source": [
    "neighbourhood_price = df.groupby(\"neighbourhood\")[\"price\"].agg(['mean'])"
   ]
  },
  {
   "cell_type": "code",
   "execution_count": 236,
   "id": "e39e56b4",
   "metadata": {},
   "outputs": [
    {
     "data": {
      "text/plain": [
       "Text(0.5, 1.0, 'Average Price of Neighbourhoods')"
      ]
     },
     "execution_count": 236,
     "metadata": {},
     "output_type": "execute_result"
    },
    {
     "data": {
      "image/png": "[encoded data removed]",
      "text/plain": [
       "<Figure size 432x288 with 1 Axes>"
      ]
     },
     "metadata": {},
     "output_type": "display_data"
    }
   ],
   "source": [
    "chart3 = neighbourhood_price.sort_values(by='mean', ascending=False).head(10).plot(kind = \"bar\")\n",
    "chart3.set_ylabel('Price TRY')\n",
    "chart3.set_xlabel('Neighbourhoods')\n",
    "chart3.set_title(\"Average Price of Neighbourhoods\")"
   ]
  },
  {
   "cell_type": "markdown",
   "id": "a773fdc2",
   "metadata": {},
   "source": [
    "Label Encoding for Neigbourhood and Room Type column"
   ]
  },
  {
   "cell_type": "code",
   "execution_count": 87,
   "id": "75659d17",
   "metadata": {},
   "outputs": [],
   "source": [
    "from sklearn import preprocessing\n",
    "le=preprocessing.LabelEncoder()\n",
    "neg_encoded=le.fit_transform(df1['neighbourhood'])\n",
    "rt_encoded=le.fit_transform(df1['room_type'])"
   ]
  },
  {
   "cell_type": "code",
   "execution_count": 213,
   "id": "df5fb01c",
   "metadata": {},
   "outputs": [],
   "source": [
    "df1 = df.copy()\n",
    "df1.columns = [\n",
    "'id', 'host_id', 'neighbourhood', 'latitude', 'longitude','room_type', 'price', 'minimum_nights' ,'number_of_reviews','reviews_per_month','calculated_host_listings_count','availability_365']\n",
    "neg=neg_encoded.reshape(-1, 1)\n",
    "df1['neighbourhood'] = number.fit_transform(df1.neighbourhood.astype(str))\n",
    "df1['room_type'] = number.fit_transform(df1.room_type.astype(str))\n",
    "#x=neg\n",
    "colns=['latitude', 'longitude','room_type','neighbourhood', 'minimum_nights' ,'number_of_reviews','reviews_per_month','calculated_host_listings_count']\n",
    "x=df1[colns]\n",
    "y=df1['price']"
   ]
  },
  {
   "cell_type": "markdown",
   "id": "5e8c5dd9",
   "metadata": {},
   "source": [
    "Making prediction with Linear Regression"
   ]
  },
  {
   "cell_type": "code",
   "execution_count": 214,
   "id": "d356bac1",
   "metadata": {},
   "outputs": [
    {
     "name": "stdout",
     "output_type": "stream",
     "text": [
      "r2 socre is 0.011552262029869143\n",
      "mean_sqrd_error is== 625861.2862481754\n",
      "root_mean_squared error of is== 791.1139527578663\n"
     ]
    }
   ],
   "source": [
    "x_train, x_test, y_train, y_test = train_test_split(x, y, test_size=0.25, random_state=1)\n",
    "regressor = LinearRegression()\n",
    "regressor.fit(x_train, y_train)\n",
    "y_pred = regressor.predict(x_test)\n",
    "from sklearn.metrics import r2_score\n",
    "from sklearn.metrics import mean_squared_error\n",
    "\n",
    "score=r2_score(y_test,y_pred)\n",
    "print('r2 socre is',score)\n",
    "print('mean_sqrd_error is==',mean_squared_error(y_test,y_pred))\n",
    "print('root_mean_squared error of is==',np.sqrt(mean_squared_error(y_test,y_pred)))"
   ]
  },
  {
   "cell_type": "markdown",
   "id": "a0b0a33b",
   "metadata": {},
   "source": [
    "changing x value as a room type"
   ]
  },
  {
   "cell_type": "code",
   "execution_count": 220,
   "id": "afaa5f5a",
   "metadata": {},
   "outputs": [],
   "source": [
    "rt=rt_encoded.reshape(-1, 1)\n",
    "x=rt\n",
    "y=df1['price']"
   ]
  },
  {
   "cell_type": "code",
   "execution_count": 224,
   "id": "9f26eeb5",
   "metadata": {},
   "outputs": [
    {
     "name": "stdout",
     "output_type": "stream",
     "text": [
      "r2 socre is 0.0040827002246828226\n",
      "mean_sqrd_error is== 630590.8327679586\n",
      "root_mean_squared error of is== 794.0974957572645\n"
     ]
    }
   ],
   "source": [
    "x_train, x_test, y_train, y_test = train_test_split(x, y, test_size=0.25, random_state=1)\n",
    "regressor = LinearRegression()\n",
    "regressor.fit(x_train, y_train)\n",
    "y_pred = regressor.predict(x_test)\n",
    "from sklearn.metrics import r2_score\n",
    "from sklearn.metrics import mean_squared_error\n",
    "\n",
    "score=r2_score(y_test,y_pred)\n",
    "print('r2 socre is',score)\n",
    "print('mean_sqrd_error is==',mean_squared_error(y_test,y_pred))\n",
    "print('root_mean_squared error of is==',np.sqrt(mean_squared_error(y_test,y_pred)))"
   ]
  },
  {
   "cell_type": "markdown",
   "id": "cde6aa6e",
   "metadata": {},
   "source": [
    "Changing feature values as 'latitude','longitude','neighbourhood','room_type'."
   ]
  },
  {
   "cell_type": "code",
   "execution_count": 225,
   "id": "bb8fc3c9",
   "metadata": {},
   "outputs": [],
   "source": [
    "from sklearn import preprocessing\n",
    "number = preprocessing.LabelEncoder()\n",
    "df1['neighbourhood'] = number.fit_transform(df1.neighbourhood.astype(str))\n",
    "df1['room_type'] = number.fit_transform(df1.room_type.astype(str))\n",
    "colns=['latitude','longitude','neighbourhood','room_type']\n",
    "\n",
    "x=df1[colns]\n",
    "y=df1['price']\n"
   ]
  },
  {
   "cell_type": "markdown",
   "id": "d840f8cc",
   "metadata": {},
   "source": [
    "classifying neighbourhood with Decision Tree"
   ]
  },
  {
   "cell_type": "code",
   "execution_count": 226,
   "id": "984e3ca6",
   "metadata": {},
   "outputs": [],
   "source": [
    "colns=['latitude','longitude','price','room_type']\n",
    "\n",
    "x=df1[colns]\n",
    "y=df1['neighbourhood']"
   ]
  },
  {
   "cell_type": "code",
   "execution_count": 227,
   "id": "c984210b",
   "metadata": {},
   "outputs": [
    {
     "data": {
      "text/plain": [
       "0.9812946098941668"
      ]
     },
     "execution_count": 227,
     "metadata": {},
     "output_type": "execute_result"
    }
   ],
   "source": [
    "from sklearn.tree import DecisionTreeClassifier\n",
    "x_train, x_test, y_train, y_test = train_test_split(x, y, test_size=0.25, random_state=1) #splitting data and training sets\n",
    "clf = DecisionTreeClassifier()\n",
    "clf = clf.fit(x_train,y_train)\n",
    "result = clf.predict(x_test)\n",
    "metrics.accuracy_score(y_test, result)"
   ]
  },
  {
   "cell_type": "markdown",
   "id": "c382e9cc",
   "metadata": {},
   "source": [
    "predicting neighbourhood with logictis regression without label encoding"
   ]
  },
  {
   "cell_type": "code",
   "execution_count": 228,
   "id": "e04f9401",
   "metadata": {},
   "outputs": [
    {
     "data": {
      "text/plain": [
       "0.26458282057592913"
      ]
     },
     "execution_count": 228,
     "metadata": {},
     "output_type": "execute_result"
    }
   ],
   "source": [
    "colns=['latitude', 'longitude','room_type', 'price', 'minimum_nights' ,'number_of_reviews','reviews_per_month','calculated_host_listings_count']\n",
    "\n",
    "x=df1[colns]\n",
    "y=df['neighbourhood']\n",
    "x_train, x_test, y_train, y_test = train_test_split(x, y, test_size=0.25, random_state=1)\n",
    "from sklearn.linear_model import LogisticRegression\n",
    "model = LogisticRegression()\n",
    "model.fit(x_train, y_train)\n",
    "result = model.predict(x_test)\n",
    "metrics.accuracy_score(y_test, result)"
   ]
  },
  {
   "cell_type": "markdown",
   "id": "8996f046",
   "metadata": {},
   "source": [
    "predicting room type with logictis regression without label encoding"
   ]
  },
  {
   "cell_type": "code",
   "execution_count": 229,
   "id": "f2995a1e",
   "metadata": {},
   "outputs": [
    {
     "data": {
      "text/plain": [
       "0.5926655180900812"
      ]
     },
     "execution_count": 229,
     "metadata": {},
     "output_type": "execute_result"
    }
   ],
   "source": [
    "colns=['neighbourhood', 'latitude', 'longitude', 'price', 'minimum_nights' ,'number_of_reviews','reviews_per_month','calculated_host_listings_count']\n",
    "\n",
    "x=df1[colns]\n",
    "y=df['room_type']\n",
    "x_train, x_test, y_train, y_test = train_test_split(x, y, test_size=0.25, random_state=1)\n",
    "from sklearn.linear_model import LogisticRegression\n",
    "model = LogisticRegression()\n",
    "model.fit(x_train, y_train)\n",
    "result = model.predict(x_test)\n",
    "metrics.accuracy_score(y_test, result)"
   ]
  },
  {
   "cell_type": "markdown",
   "id": "e090d592",
   "metadata": {},
   "source": [
    "predicting availability with linear regression"
   ]
  },
  {
   "cell_type": "code",
   "execution_count": 230,
   "id": "db2c6a6b",
   "metadata": {},
   "outputs": [
    {
     "name": "stdout",
     "output_type": "stream",
     "text": [
      "r2 socre is 0.036024699512258285\n",
      "mean_sqrd_error is== 17442.772547908262\n",
      "root_mean_squared error of is== 132.0710889934215\n"
     ]
    }
   ],
   "source": [
    "colns=['neighbourhood','latitude', 'longitude','room_type', 'price', 'minimum_nights' ,'number_of_reviews','reviews_per_month','calculated_host_listings_count']\n",
    "\n",
    "x=df1[colns]\n",
    "y=df1['availability_365']\n",
    "x_train, x_test, y_train, y_test = train_test_split(x, y, test_size=0.25, random_state=1)\n",
    "regressor = LinearRegression()\n",
    "regressor.fit(x_train, y_train)\n",
    "y_pred = regressor.predict(x_test)\n",
    "from sklearn.metrics import r2_score\n",
    "from sklearn.metrics import mean_squared_error\n",
    "\n",
    "score=r2_score(y_test,y_pred)\n",
    "print('r2 socre is',score)\n",
    "print('mean_sqrd_error is==',mean_squared_error(y_test,y_pred))\n",
    "print('root_mean_squared error of is==',np.sqrt(mean_squared_error(y_test,y_pred)))"
   ]
  },
  {
   "cell_type": "markdown",
   "id": "b6ab4476",
   "metadata": {},
   "source": [
    "predicting availability with decision tree"
   ]
  },
  {
   "cell_type": "code",
   "execution_count": 231,
   "id": "b4b2df85",
   "metadata": {},
   "outputs": [
    {
     "data": {
      "text/plain": [
       "0.17450159980310115"
      ]
     },
     "execution_count": 231,
     "metadata": {},
     "output_type": "execute_result"
    }
   ],
   "source": [
    "colns=['neighbourhood','latitude', 'longitude','room_type', 'price', 'minimum_nights' ,'number_of_reviews','reviews_per_month','calculated_host_listings_count']\n",
    "x=df1[colns]\n",
    "y=df1['availability_365']\n",
    "x_train, x_test, y_train, y_test = train_test_split(x, y, test_size=0.25, random_state=1) #splitting data and training sets\n",
    "clf = DecisionTreeClassifier()\n",
    "clf = clf.fit(x_train,y_train)\n",
    "result = clf.predict(x_test)\n",
    "metrics.accuracy_score(y_test, result)"
   ]
  },
  {
   "cell_type": "markdown",
   "id": "fe1b1e34",
   "metadata": {},
   "source": [
    "predicting neighbourhood with logistic regression"
   ]
  },
  {
   "cell_type": "code",
   "execution_count": 232,
   "id": "3da9db42",
   "metadata": {},
   "outputs": [
    {
     "data": {
      "text/plain": [
       "0.26458282057592913"
      ]
     },
     "execution_count": 232,
     "metadata": {},
     "output_type": "execute_result"
    }
   ],
   "source": [
    "colns=['latitude', 'longitude','room_type', 'price', 'minimum_nights' ,'number_of_reviews','reviews_per_month','calculated_host_listings_count']\n",
    "\n",
    "x=df1[colns]\n",
    "y=df['neighbourhood']\n",
    "x_train, x_test, y_train, y_test = train_test_split(x, y, test_size=0.25, random_state=1)\n",
    "from sklearn.linear_model import LogisticRegression\n",
    "model = LogisticRegression()\n",
    "model.fit(x_train, y_train)\n",
    "result = model.predict(x_test)\n",
    "metrics.accuracy_score(y_test, result)"
   ]
  },
  {
   "cell_type": "code",
   "execution_count": 237,
   "id": "04e0e6e9",
   "metadata": {},
   "outputs": [
    {
     "data": {
      "text/plain": [
       "0.2864878168840758"
      ]
     },
     "execution_count": 237,
     "metadata": {},
     "output_type": "execute_result"
    }
   ],
   "source": [
    "colns=['latitude', 'longitude','room_type', 'price', 'minimum_nights' ,'number_of_reviews','reviews_per_month','calculated_host_listings_count']\n",
    "\n",
    "x=df1[colns]\n",
    "y=df['availability_365']\n",
    "x_train, x_test, y_train, y_test = train_test_split(x, y, test_size=0.25, random_state=1)\n",
    "from sklearn.linear_model import LogisticRegression\n",
    "model = LogisticRegression()\n",
    "model.fit(x_train, y_train)\n",
    "result = model.predict(x_test)\n",
    "metrics.accuracy_score(y_test, result)"
   ]
  },
  {
   "cell_type": "code",
   "execution_count": 266,
   "id": "262e24ea",
   "metadata": {},
   "outputs": [],
   "source": [
    "x=neg\n",
    "y=rt\n",
    "from sklearn.preprocessing import StandardScaler\n",
    "sc_X = StandardScaler()\n",
    "sc_y = StandardScaler()\n",
    "X = sc_X.fit_transform(x)\n",
    "y = sc_y.fit_transform(y)\n",
    "#4 Fitting the Support Vector Regression Model to the dataset\n",
    "# Create your support vector regressor here\n",
    "from sklearn.svm import SVR\n",
    "# most important SVR parameter is Kernel type. It can be #linear,polynomial or gaussian SVR. We have a non-linear condition #so we can select polynomial or gaussian but here we select RBF(a #gaussian type) kernel.\n",
    "regressor = SVR(kernel='rbf')\n",
    "regressor.fit(x,y)\n",
    "#5 Predicting a new result\n",
    "y_pred = regressor.predict(np.array([16250]).reshape(1, 1))\n",
    "\n"
   ]
  },
  {
   "cell_type": "code",
   "execution_count": 267,
   "id": "52ae6dbc",
   "metadata": {},
   "outputs": [
    {
     "name": "stdout",
     "output_type": "stream",
     "text": [
      "[0.17264313]\n"
     ]
    }
   ],
   "source": [
    "print(y_pred)"
   ]
  },
  {
   "cell_type": "code",
   "execution_count": 268,
   "id": "b9cd2256",
   "metadata": {},
   "outputs": [
    {
     "name": "stdout",
     "output_type": "stream",
     "text": [
      "[0.04672084]\n"
     ]
    }
   ],
   "source": [
    "py_pred = sc_y.inverse_transform(regressor.predict(sc_X.transform(np.array([[6.5]]))))\n",
    "print(py_pred)"
   ]
  },
  {
   "cell_type": "code",
   "execution_count": 269,
   "id": "61ff93ec",
   "metadata": {},
   "outputs": [
    {
     "data": {
      "text/plain": [
       "array([[-1.06782261],\n",
       "       [-1.06782261],\n",
       "       [-1.06782261],\n",
       "       ...,\n",
       "       [ 0.74831399],\n",
       "       [ 0.74831399],\n",
       "       [ 0.74831399]])"
      ]
     },
     "execution_count": 269,
     "metadata": {},
     "output_type": "execute_result"
    }
   ],
   "source": [
    "y"
   ]
  },
  {
   "cell_type": "code",
   "execution_count": null,
   "id": "74e96f76",
   "metadata": {},
   "outputs": [],
   "source": []
  }
 ],
 "metadata": {
  "kernelspec": {
   "display_name": "Python 3 (ipykernel)",
   "language": "python",
   "name": "python3"
  },
  "language_info": {
   "codemirror_mode": {
    "name": "ipython",
    "version": 3
   },
   "file_extension": ".py",
   "mimetype": "text/x-python",
   "name": "python",
   "nbconvert_exporter": "python",
   "pygments_lexer": "ipython3",
   "version": "3.9.7"
  }
 },
 "nbformat": 4,
 "nbformat_minor": 5
}
